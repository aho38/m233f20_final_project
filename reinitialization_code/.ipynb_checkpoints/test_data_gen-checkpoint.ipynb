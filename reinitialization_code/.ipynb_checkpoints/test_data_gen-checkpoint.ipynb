{
 "cells": [
  {
   "cell_type": "code",
   "execution_count": 1,
   "metadata": {},
   "outputs": [],
   "source": [
    "import torch\n",
    "import numpy as np\n",
    "import math\n",
    "import matplotlib.pyplot as plt\n",
    "import pickle as pkl\n",
    "from train_data_gen import grid2D, data_gen"
   ]
  },
  {
   "cell_type": "code",
   "execution_count": 2,
   "metadata": {},
   "outputs": [],
   "source": [
    "xmin = -0.207843\n",
    "xmax = 0.207843\n",
    "ymin = -0.207843\n",
    "ymax = 0.207843\n",
    "\n",
    "a = 0.05 # 0.05 for smooth flower and 0.075 for sharp flower\n",
    "b = 0.15\n",
    "p = 3\n",
    "\n",
    "x0 = 0.0\n",
    "y0 = 0.0\n",
    "\n",
    "dataset = []\n",
    "label = []\n",
    "\n",
    "N = 107\n",
    "\n",
    "data_gen_ = data_gen(xmin, xmax, ymin, ymax, N)"
   ]
  },
  {
   "cell_type": "code",
   "execution_count": 6,
   "metadata": {},
   "outputs": [],
   "source": [
    "solution = np.loadtxt('./solution.txt')"
   ]
  },
  {
   "cell_type": "code",
   "execution_count": null,
   "metadata": {},
   "outputs": [],
   "source": [
    "for i in range(552):\n",
    "    data_tensor = torch.zeros(9)\n",
    "    k = 0\n",
    "\n",
    "    theta = np.random.uniform(0,2 * math.acos(-1))\n",
    "    r, dr, ddr = zero_isocontour(a,b,p,theta)\n",
    "\n",
    "    node_indexs = data_gen_.get_data_pt(r, x0, y0, theta)\n",
    "\n",
    "    for j in range(9):\n",
    "        index = int(node_indexs[j].item())\n",
    "        data_tensor[j] = three_pedal(n_r, a,b,p,n_theta)\n",
    "\n",
    "\n",
    "    k = analytic_curvature(r, dr, ddr)\n",
    "    hk = k * data_gen_.grid.dx\n",
    "\n",
    "    dataset.append(data_tensor)\n",
    "    label.append(torch.tensor([hk]))"
   ]
  }
 ],
 "metadata": {
  "kernelspec": {
   "display_name": "Python 3",
   "language": "python",
   "name": "python3"
  },
  "language_info": {
   "codemirror_mode": {
    "name": "ipython",
    "version": 3
   },
   "file_extension": ".py",
   "mimetype": "text/x-python",
   "name": "python",
   "nbconvert_exporter": "python",
   "pygments_lexer": "ipython3",
   "version": "3.6.12"
  }
 },
 "nbformat": 4,
 "nbformat_minor": 4
}
